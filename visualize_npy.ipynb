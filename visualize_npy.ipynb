{
 "cells": [
  {
   "cell_type": "code",
   "execution_count": 33,
   "metadata": {},
   "outputs": [],
   "source": [
    "import numpy as np\n",
    "\n",
    "import nibabel as nib\n",
    "from pycimg import CImg\n",
    "\n",
    "# Load train data ==> (X [batches], a [height], b [width], c [depth])\n",
    "train_data_path = 'data/train/new_train.npy'\n",
    "train_sample_data = np.load(train_data_path)\n",
    "\n",
    "# Transform a single batch (numpy array) into a nifti format\n",
    "batch_number = 523\n",
    "img = nib.Nifti1Image(train_sample_data[batch_number], np.eye(4))\n",
    "img.header.get_xyzt_units()\n",
    "\n",
    "# Visualize a single batch\n",
    "img_tensor = img.get_fdata()\n",
    "CImg(img_tensor).display();"
   ]
  }
 ],
 "metadata": {
  "colab": {
   "authorship_tag": "ABX9TyOCC4oAmdxYvKe9Y1t0RhGR",
   "name": "sample-pipeline.ipynb",
   "provenance": []
  },
  "kernelspec": {
   "display_name": "venv36",
   "language": "python",
   "name": "venv36"
  },
  "language_info": {
   "codemirror_mode": {
    "name": "ipython",
    "version": 3
   },
   "file_extension": ".py",
   "mimetype": "text/x-python",
   "name": "python",
   "nbconvert_exporter": "python",
   "pygments_lexer": "ipython3",
   "version": "3.6.14"
  }
 },
 "nbformat": 4,
 "nbformat_minor": 1
}
